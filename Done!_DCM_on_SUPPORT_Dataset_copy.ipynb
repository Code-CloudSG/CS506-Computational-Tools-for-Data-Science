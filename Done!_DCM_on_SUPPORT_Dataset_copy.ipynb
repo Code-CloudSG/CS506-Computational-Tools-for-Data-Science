{
  "cells": [
    {
      "cell_type": "markdown",
      "metadata": {
        "id": "view-in-github",
        "colab_type": "text"
      },
      "source": [
        "<a href=\"https://colab.research.google.com/github/Code-CloudSG/CS506-Computational-Tools-for-Data-Science/blob/master/Done!_DCM_on_SUPPORT_Dataset_copy.ipynb\" target=\"_parent\"><img src=\"https://colab.research.google.com/assets/colab-badge.svg\" alt=\"Open In Colab\"/></a>"
      ]
    },
    {
      "cell_type": "markdown",
      "metadata": {
        "id": "ozDRr3_LdWN7"
      },
      "source": [
        "# DSM on SUPPORT Dataset"
      ]
    },
    {
      "cell_type": "code",
      "source": [
        "from google.colab import drive\n",
        "drive.mount('/content/gdrive')"
      ],
      "metadata": {
        "colab": {
          "base_uri": "https://localhost:8080/"
        },
        "id": "qpQ8phEAdZ2U",
        "outputId": "bf1885ef-a1a4-4ab0-d473-82f1afbff50c"
      },
      "execution_count": null,
      "outputs": [
        {
          "output_type": "stream",
          "name": "stdout",
          "text": [
            "Mounted at /content/gdrive\n"
          ]
        }
      ]
    },
    {
      "cell_type": "code",
      "source": [
        "%cd gdrive/My Drive/project_folder/MA/auton-survival"
      ],
      "metadata": {
        "colab": {
          "base_uri": "https://localhost:8080/"
        },
        "id": "Ktbkk2ZsdrKQ",
        "outputId": "7327021a-943f-431f-d7f5-5e83232c469d"
      },
      "execution_count": null,
      "outputs": [
        {
          "output_type": "stream",
          "name": "stdout",
          "text": [
            "/content/gdrive/My Drive/project_folder/MA/auton-survival\n"
          ]
        }
      ]
    },
    {
      "cell_type": "markdown",
      "metadata": {
        "id": "2mY6SguYdWN9"
      },
      "source": [
        "The SUPPORT dataset comes from the Vanderbilt University study\n",
        "to estimate survival for seriously ill hospitalized adults.\n",
        "(Refer to http://biostat.mc.vanderbilt.edu/wiki/Main/SupportDesc.\n",
        "for the original datasource.)\n",
        "\n",
        "In this notebook, we will apply Deep Survival Machines for survival prediction on the SUPPORT data."
      ]
    },
    {
      "cell_type": "markdown",
      "metadata": {
        "id": "tCUZMpA6dWN9"
      },
      "source": [
        "### Load the SUPPORT Dataset\n",
        "\n",
        "The package includes helper functions to load the dataset.\n",
        "\n",
        "X represents an np.array of features (covariates),\n",
        "T is the event/censoring times and,\n",
        "E is the censoring indicator."
      ]
    },
    {
      "cell_type": "code",
      "source": [
        "import sys\n",
        "sys.path.insert(1, \"/content/gdrive/MyDrive/project_folder/MA/auton-survival/auton_survival/\")"
      ],
      "metadata": {
        "id": "PrmL7WNId5NU"
      },
      "execution_count": null,
      "outputs": []
    },
    {
      "cell_type": "code",
      "execution_count": null,
      "metadata": {
        "colab": {
          "base_uri": "https://localhost:8080/",
          "height": 463
        },
        "id": "9bDg-t-adWN-",
        "outputId": "48f16f24-3ca3-4a0c-e9e2-7da059fd72a1"
      },
      "outputs": [
        {
          "output_type": "error",
          "ename": "ModuleNotFoundError",
          "evalue": "ignored",
          "traceback": [
            "\u001b[0;31m---------------------------------------------------------------------------\u001b[0m",
            "\u001b[0;31mModuleNotFoundError\u001b[0m                       Traceback (most recent call last)",
            "\u001b[0;32m<ipython-input-9-7655f7f4ea0a>\u001b[0m in \u001b[0;36m<module>\u001b[0;34m\u001b[0m\n\u001b[0;32m----> 1\u001b[0;31m \u001b[0;32mfrom\u001b[0m \u001b[0mdsm\u001b[0m \u001b[0;32mimport\u001b[0m \u001b[0mdatasets\u001b[0m\u001b[0;34m\u001b[0m\u001b[0;34m\u001b[0m\u001b[0m\n\u001b[0m\u001b[1;32m      2\u001b[0m \u001b[0mx\u001b[0m\u001b[0;34m,\u001b[0m \u001b[0mt\u001b[0m\u001b[0;34m,\u001b[0m \u001b[0me\u001b[0m \u001b[0;34m=\u001b[0m \u001b[0mdatasets\u001b[0m\u001b[0;34m.\u001b[0m\u001b[0mload_dataset\u001b[0m\u001b[0;34m(\u001b[0m\u001b[0;34m'SUPPORT'\u001b[0m\u001b[0;34m)\u001b[0m\u001b[0;34m\u001b[0m\u001b[0;34m\u001b[0m\u001b[0m\n",
            "\u001b[0;32m/content/gdrive/MyDrive/project_folder/MA/auton-survival/dsm/__init__.py\u001b[0m in \u001b[0;36m<module>\u001b[0;34m\u001b[0m\n\u001b[1;32m    222\u001b[0m \"\"\"\n\u001b[1;32m    223\u001b[0m \u001b[0;34m\u001b[0m\u001b[0m\n\u001b[0;32m--> 224\u001b[0;31m \u001b[0;32mfrom\u001b[0m \u001b[0mdsm\u001b[0m\u001b[0;34m.\u001b[0m\u001b[0mdsm_api\u001b[0m \u001b[0;32mimport\u001b[0m \u001b[0mDeepSurvivalMachines\u001b[0m\u001b[0;34m\u001b[0m\u001b[0;34m\u001b[0m\u001b[0m\n\u001b[0m\u001b[1;32m    225\u001b[0m \u001b[0;32mfrom\u001b[0m \u001b[0mdsm\u001b[0m\u001b[0;34m.\u001b[0m\u001b[0mdsm_api\u001b[0m \u001b[0;32mimport\u001b[0m \u001b[0mDeepConvolutionalSurvivalMachines\u001b[0m\u001b[0;34m\u001b[0m\u001b[0;34m\u001b[0m\u001b[0m\n\u001b[1;32m    226\u001b[0m \u001b[0;32mfrom\u001b[0m \u001b[0mdsm\u001b[0m\u001b[0;34m.\u001b[0m\u001b[0mdsm_api\u001b[0m \u001b[0;32mimport\u001b[0m \u001b[0mDeepRecurrentSurvivalMachines\u001b[0m\u001b[0;34m\u001b[0m\u001b[0;34m\u001b[0m\u001b[0m\n",
            "\u001b[0;31mModuleNotFoundError\u001b[0m: No module named 'dsm.dsm_api'",
            "",
            "\u001b[0;31m---------------------------------------------------------------------------\u001b[0;32m\nNOTE: If your import is failing due to a missing package, you can\nmanually install dependencies using either !pip or !apt.\n\nTo view examples of installing some common dependencies, click the\n\"Open Examples\" button below.\n\u001b[0;31m---------------------------------------------------------------------------\u001b[0m\n"
          ],
          "errorDetails": {
            "actions": [
              {
                "action": "open_url",
                "actionText": "Open Examples",
                "url": "/notebooks/snippets/importing_libraries.ipynb"
              }
            ]
          }
        }
      ],
      "source": [
        "from dsm import datasets\n",
        "x, t, e = datasets.load_dataset('SUPPORT')"
      ]
    },
    {
      "cell_type": "code",
      "source": [
        "import auton_survival\n"
      ],
      "metadata": {
        "colab": {
          "base_uri": "https://localhost:8080/",
          "height": 463
        },
        "id": "MgDz_jwyexcu",
        "outputId": "50602166-4b2e-4204-c615-b3d37ac583c4"
      },
      "execution_count": null,
      "outputs": [
        {
          "output_type": "error",
          "ename": "ModuleNotFoundError",
          "evalue": "ignored",
          "traceback": [
            "\u001b[0;31m---------------------------------------------------------------------------\u001b[0m",
            "\u001b[0;31mModuleNotFoundError\u001b[0m                       Traceback (most recent call last)",
            "\u001b[0;32m<ipython-input-12-eff687bc886e>\u001b[0m in \u001b[0;36m<module>\u001b[0;34m\u001b[0m\n\u001b[1;32m      1\u001b[0m \u001b[0;32mimport\u001b[0m \u001b[0mauton_survival\u001b[0m\u001b[0;34m\u001b[0m\u001b[0;34m\u001b[0m\u001b[0m\n\u001b[0;32m----> 2\u001b[0;31m \u001b[0;32mimport\u001b[0m \u001b[0mdsm\u001b[0m\u001b[0;34m\u001b[0m\u001b[0;34m\u001b[0m\u001b[0m\n\u001b[0m",
            "\u001b[0;32m/content/gdrive/MyDrive/project_folder/MA/auton-survival/dsm/__init__.py\u001b[0m in \u001b[0;36m<module>\u001b[0;34m\u001b[0m\n\u001b[1;32m    222\u001b[0m \"\"\"\n\u001b[1;32m    223\u001b[0m \u001b[0;34m\u001b[0m\u001b[0m\n\u001b[0;32m--> 224\u001b[0;31m \u001b[0;32mfrom\u001b[0m \u001b[0mdsm\u001b[0m\u001b[0;34m.\u001b[0m\u001b[0mdsm_api\u001b[0m \u001b[0;32mimport\u001b[0m \u001b[0mDeepSurvivalMachines\u001b[0m\u001b[0;34m\u001b[0m\u001b[0;34m\u001b[0m\u001b[0m\n\u001b[0m\u001b[1;32m    225\u001b[0m \u001b[0;32mfrom\u001b[0m \u001b[0mdsm\u001b[0m\u001b[0;34m.\u001b[0m\u001b[0mdsm_api\u001b[0m \u001b[0;32mimport\u001b[0m \u001b[0mDeepConvolutionalSurvivalMachines\u001b[0m\u001b[0;34m\u001b[0m\u001b[0;34m\u001b[0m\u001b[0m\n\u001b[1;32m    226\u001b[0m \u001b[0;32mfrom\u001b[0m \u001b[0mdsm\u001b[0m\u001b[0;34m.\u001b[0m\u001b[0mdsm_api\u001b[0m \u001b[0;32mimport\u001b[0m \u001b[0mDeepRecurrentSurvivalMachines\u001b[0m\u001b[0;34m\u001b[0m\u001b[0;34m\u001b[0m\u001b[0m\n",
            "\u001b[0;31mModuleNotFoundError\u001b[0m: No module named 'dsm.dsm_api'",
            "",
            "\u001b[0;31m---------------------------------------------------------------------------\u001b[0;32m\nNOTE: If your import is failing due to a missing package, you can\nmanually install dependencies using either !pip or !apt.\n\nTo view examples of installing some common dependencies, click the\n\"Open Examples\" button below.\n\u001b[0;31m---------------------------------------------------------------------------\u001b[0m\n"
          ],
          "errorDetails": {
            "actions": [
              {
                "action": "open_url",
                "actionText": "Open Examples",
                "url": "/notebooks/snippets/importing_libraries.ipynb"
              }
            ]
          }
        }
      ]
    },
    {
      "cell_type": "code",
      "source": [
        "from auton_survival.models.dsm import DeepSurvivalMachines"
      ],
      "metadata": {
        "id": "GByqY6WNgBCA"
      },
      "execution_count": null,
      "outputs": []
    },
    {
      "cell_type": "code",
      "source": [
        "from auton_survival.models.dsm import datasets\n",
        "x, t, e = datasets.load_dataset('SUPPORT')"
      ],
      "metadata": {
        "id": "3ukeMjxufyFg"
      },
      "execution_count": null,
      "outputs": []
    },
    {
      "cell_type": "code",
      "source": [
        "!apt update\n",
        "!apt install -y cmake"
      ],
      "metadata": {
        "colab": {
          "base_uri": "https://localhost:8080/"
        },
        "id": "x1YO881IeU_n",
        "outputId": "e6fc11c2-f0ff-450f-e35e-552a4c1188e9"
      },
      "execution_count": null,
      "outputs": [
        {
          "output_type": "stream",
          "name": "stdout",
          "text": [
            "\u001b[33m\r0% [Working]\u001b[0m\r            \rGet:1 http://security.ubuntu.com/ubuntu bionic-security InRelease [88.7 kB]\n",
            "\u001b[33m\r0% [Connecting to archive.ubuntu.com] [1 InRelease 14.2 kB/88.7 kB 16%] [Waitin\u001b[0m\r                                                                               \rGet:2 https://cloud.r-project.org/bin/linux/ubuntu bionic-cran40/ InRelease [3,626 B]\n",
            "\u001b[33m\r0% [Connecting to archive.ubuntu.com] [1 InRelease 14.2 kB/88.7 kB 16%] [2 InRe\u001b[0m\u001b[33m\r0% [Connecting to archive.ubuntu.com] [1 InRelease 14.2 kB/88.7 kB 16%] [Waitin\u001b[0m\u001b[33m\r0% [2 InRelease gpgv 3,626 B] [Connecting to archive.ubuntu.com] [1 InRelease 1\u001b[0m\r                                                                               \rIgn:3 https://developer.download.nvidia.com/compute/machine-learning/repos/ubuntu1804/x86_64  InRelease\n",
            "Get:4 https://developer.download.nvidia.com/compute/cuda/repos/ubuntu1804/x86_64  InRelease [1,581 B]\n",
            "Hit:5 https://developer.download.nvidia.com/compute/machine-learning/repos/ubuntu1804/x86_64  Release\n",
            "Hit:6 http://archive.ubuntu.com/ubuntu bionic InRelease\n",
            "Get:7 http://archive.ubuntu.com/ubuntu bionic-updates InRelease [88.7 kB]\n",
            "Get:8 http://ppa.launchpad.net/c2d4u.team/c2d4u4.0+/ubuntu bionic InRelease [15.9 kB]\n",
            "Get:9 https://cloud.r-project.org/bin/linux/ubuntu bionic-cran40/ Packages [90.7 kB]\n",
            "Get:10 http://archive.ubuntu.com/ubuntu bionic-backports InRelease [74.6 kB]\n",
            "Get:11 https://developer.download.nvidia.com/compute/cuda/repos/ubuntu1804/x86_64  Packages [903 kB]\n",
            "Hit:12 http://ppa.launchpad.net/cran/libgit2/ubuntu bionic InRelease\n",
            "Get:14 http://ppa.launchpad.net/deadsnakes/ppa/ubuntu bionic InRelease [15.9 kB]\n",
            "Get:15 http://security.ubuntu.com/ubuntu bionic-security/universe amd64 Packages [1,533 kB]\n",
            "Get:16 http://ppa.launchpad.net/graphics-drivers/ppa/ubuntu bionic InRelease [21.3 kB]\n",
            "Get:17 http://archive.ubuntu.com/ubuntu bionic-updates/main amd64 Packages [3,369 kB]\n",
            "Get:18 http://security.ubuntu.com/ubuntu bionic-security/restricted amd64 Packages [1,100 kB]\n",
            "Get:19 http://security.ubuntu.com/ubuntu bionic-security/main amd64 Packages [2,937 kB]\n",
            "Get:20 http://archive.ubuntu.com/ubuntu bionic-updates/universe amd64 Packages [2,310 kB]\n",
            "Get:21 http://archive.ubuntu.com/ubuntu bionic-updates/restricted amd64 Packages [1,141 kB]\n",
            "Get:22 http://ppa.launchpad.net/c2d4u.team/c2d4u4.0+/ubuntu bionic/main Sources [2,095 kB]\n",
            "Get:23 http://ppa.launchpad.net/c2d4u.team/c2d4u4.0+/ubuntu bionic/main amd64 Packages [1,073 kB]\n",
            "Get:24 http://ppa.launchpad.net/deadsnakes/ppa/ubuntu bionic/main amd64 Packages [45.3 kB]\n",
            "Get:25 http://ppa.launchpad.net/graphics-drivers/ppa/ubuntu bionic/main amd64 Packages [47.7 kB]\n",
            "Fetched 17.0 MB in 4s (3,931 kB/s)\n",
            "Reading package lists... Done\n",
            "Building dependency tree       \n",
            "Reading state information... Done\n",
            "38 packages can be upgraded. Run 'apt list --upgradable' to see them.\n",
            "Reading package lists... Done\n",
            "Building dependency tree       \n",
            "Reading state information... Done\n",
            "cmake is already the newest version (3.10.2-1ubuntu2.18.04.2).\n",
            "The following package was automatically installed and is no longer required:\n",
            "  libnvidia-common-460\n",
            "Use 'apt autoremove' to remove it.\n",
            "0 upgraded, 0 newly installed, 0 to remove and 38 not upgraded.\n"
          ]
        }
      ]
    },
    {
      "cell_type": "code",
      "source": [
        "!pip install scikit-survival"
      ],
      "metadata": {
        "colab": {
          "base_uri": "https://localhost:8080/"
        },
        "id": "CayaTVJAeYvs",
        "outputId": "a706b687-b9ce-4d71-a764-5a3db6c6184c"
      },
      "execution_count": null,
      "outputs": [
        {
          "output_type": "stream",
          "name": "stdout",
          "text": [
            "Looking in indexes: https://pypi.org/simple, https://us-python.pkg.dev/colab-wheels/public/simple/\n",
            "Collecting scikit-survival\n",
            "  Downloading scikit_survival-0.17.2-cp37-cp37m-manylinux_2_17_x86_64.manylinux2014_x86_64.whl (3.1 MB)\n",
            "\u001b[K     |████████████████████████████████| 3.1 MB 4.7 MB/s \n",
            "\u001b[?25hRequirement already satisfied: joblib in /usr/local/lib/python3.7/dist-packages (from scikit-survival) (1.1.0)\n",
            "Requirement already satisfied: osqp!=0.6.0,!=0.6.1 in /usr/local/lib/python3.7/dist-packages (from scikit-survival) (0.6.2.post0)\n",
            "Requirement already satisfied: scipy!=1.3.0,>=1.0 in /usr/local/lib/python3.7/dist-packages (from scikit-survival) (1.7.3)\n",
            "Requirement already satisfied: pandas>=0.25 in /usr/local/lib/python3.7/dist-packages (from scikit-survival) (1.3.5)\n",
            "Requirement already satisfied: scikit-learn<1.1,>=1.0.0 in /usr/local/lib/python3.7/dist-packages (from scikit-survival) (1.0.2)\n",
            "Requirement already satisfied: numexpr in /usr/local/lib/python3.7/dist-packages (from scikit-survival) (2.8.3)\n",
            "Requirement already satisfied: ecos in /usr/local/lib/python3.7/dist-packages (from scikit-survival) (2.0.10)\n",
            "Requirement already satisfied: numpy in /usr/local/lib/python3.7/dist-packages (from scikit-survival) (1.21.6)\n",
            "Requirement already satisfied: qdldl in /usr/local/lib/python3.7/dist-packages (from osqp!=0.6.0,!=0.6.1->scikit-survival) (0.1.5.post2)\n",
            "Requirement already satisfied: python-dateutil>=2.7.3 in /usr/local/lib/python3.7/dist-packages (from pandas>=0.25->scikit-survival) (2.8.2)\n",
            "Requirement already satisfied: pytz>=2017.3 in /usr/local/lib/python3.7/dist-packages (from pandas>=0.25->scikit-survival) (2022.1)\n",
            "Requirement already satisfied: six>=1.5 in /usr/local/lib/python3.7/dist-packages (from python-dateutil>=2.7.3->pandas>=0.25->scikit-survival) (1.15.0)\n",
            "Requirement already satisfied: threadpoolctl>=2.0.0 in /usr/local/lib/python3.7/dist-packages (from scikit-learn<1.1,>=1.0.0->scikit-survival) (3.1.0)\n",
            "Requirement already satisfied: packaging in /usr/local/lib/python3.7/dist-packages (from numexpr->scikit-survival) (21.3)\n",
            "Requirement already satisfied: pyparsing!=3.0.5,>=2.0.2 in /usr/local/lib/python3.7/dist-packages (from packaging->numexpr->scikit-survival) (3.0.9)\n",
            "Installing collected packages: scikit-survival\n",
            "Successfully installed scikit-survival-0.17.2\n"
          ]
        }
      ]
    },
    {
      "cell_type": "code",
      "source": [
        "!pwd"
      ],
      "metadata": {
        "colab": {
          "base_uri": "https://localhost:8080/"
        },
        "id": "WQx2MGLtd-u8",
        "outputId": "0d3c4e55-0705-45ec-8924-d568c9a3fda5"
      },
      "execution_count": null,
      "outputs": [
        {
          "output_type": "stream",
          "name": "stdout",
          "text": [
            "/content/gdrive/MyDrive/project_folder/MA/auton-survival\n"
          ]
        }
      ]
    },
    {
      "cell_type": "markdown",
      "metadata": {
        "id": "5ihQoRa3dWN_"
      },
      "source": [
        "### Compute horizons at which we evaluate the performance of DSM\n",
        "\n",
        "Survival predictions are issued at certain time horizons. Here we will evaluate the performance\n",
        "of DSM to issue predictions at the 25th, 50th and 75th event time quantile as is standard practice in Survival Analysis."
      ]
    },
    {
      "cell_type": "code",
      "execution_count": null,
      "metadata": {
        "id": "5Tq6TQKOdWN_"
      },
      "outputs": [],
      "source": [
        "import numpy as np\n",
        "horizons = [0.25, 0.5, 0.75]\n",
        "times = np.quantile(t[e==1], horizons).tolist()"
      ]
    },
    {
      "cell_type": "markdown",
      "metadata": {
        "id": "aSM2FmQLdWN_"
      },
      "source": [
        "### Splitting the data into train, test and validation sets\n",
        "\n",
        "We will train DSM on 70% of the Data, use a Validation set of 10% for Model Selection and report performance on the remaining 20% held out test set."
      ]
    },
    {
      "cell_type": "code",
      "execution_count": null,
      "metadata": {
        "id": "iqxpA0MldWN_"
      },
      "outputs": [],
      "source": [
        "n = len(x)\n",
        "\n",
        "tr_size = int(n*0.70)\n",
        "vl_size = int(n*0.10)\n",
        "te_size = int(n*0.20)\n",
        "\n",
        "x_train, x_test, x_val = x[:tr_size], x[-te_size:], x[tr_size:tr_size+vl_size]\n",
        "t_train, t_test, t_val = t[:tr_size], t[-te_size:], t[tr_size:tr_size+vl_size]\n",
        "e_train, e_test, e_val = e[:tr_size], e[-te_size:], e[tr_size:tr_size+vl_size]"
      ]
    },
    {
      "cell_type": "markdown",
      "metadata": {
        "id": "iggEfFPQdWOA"
      },
      "source": [
        "### Setting the parameter grid\n",
        "\n",
        "Lets set up the parameter grid to tune hyper-parameters. We will tune the number of underlying survival distributions, \n",
        "($K$), the distribution choices (Log-Normal or Weibull), the learning rate for the Adam optimizer between $1\\times10^{-3}$ and $1\\times10^{-4}$ and the number of hidden layers between $0, 1$ and $2$."
      ]
    },
    {
      "cell_type": "code",
      "execution_count": null,
      "metadata": {
        "id": "ZHE2g_4ydWOA"
      },
      "outputs": [],
      "source": [
        "from sklearn.model_selection import ParameterGrid"
      ]
    },
    {
      "cell_type": "code",
      "execution_count": null,
      "metadata": {
        "id": "n2TmlMJJdWOA"
      },
      "outputs": [],
      "source": [
        "param_grid = {'k' : [3, 4, 6],\n",
        "              'distribution' : ['LogNormal', 'Weibull'],\n",
        "              'learning_rate' : [ 1e-4, 1e-3],\n",
        "              'layers' : [ [], [100], [100, 100] ]\n",
        "             }\n",
        "params = ParameterGrid(param_grid)"
      ]
    },
    {
      "cell_type": "markdown",
      "metadata": {
        "id": "9lRrf9v7dWOB"
      },
      "source": [
        "### Model Training and Selection"
      ]
    },
    {
      "cell_type": "code",
      "execution_count": null,
      "metadata": {
        "id": "WaCJintjdWOB"
      },
      "outputs": [],
      "source": [
        "from auton_survival.models.dsm import DeepSurvivalMachines"
      ]
    },
    {
      "cell_type": "code",
      "execution_count": null,
      "metadata": {
        "scrolled": true,
        "colab": {
          "base_uri": "https://localhost:8080/"
        },
        "id": "8zIiOFuWdWOB",
        "outputId": "b645deb1-13d7-46e4-8641-90723e1c79b5"
      },
      "outputs": [
        {
          "output_type": "stream",
          "name": "stderr",
          "text": [
            " 12%|█▏        | 1190/10000 [00:02<00:16, 529.48it/s]\n",
            "100%|██████████| 100/100 [00:15<00:00,  6.43it/s]\n",
            " 12%|█▏        | 1190/10000 [00:02<00:15, 557.66it/s]\n",
            " 56%|█████▌    | 56/100 [00:08<00:06,  6.84it/s]\n",
            " 12%|█▏        | 1190/10000 [00:02<00:15, 555.93it/s]\n",
            " 92%|█████████▏| 92/100 [00:14<00:01,  6.17it/s]\n",
            " 12%|█▏        | 1190/10000 [00:02<00:15, 557.25it/s]\n",
            " 16%|█▌        | 16/100 [00:02<00:14,  5.62it/s]\n",
            " 12%|█▏        | 1190/10000 [00:02<00:21, 409.34it/s]\n",
            " 60%|██████    | 60/100 [00:11<00:07,  5.31it/s]\n",
            " 12%|█▏        | 1190/10000 [00:02<00:16, 525.28it/s]\n",
            " 11%|█         | 11/100 [00:02<00:18,  4.88it/s]\n",
            " 12%|█▏        | 1190/10000 [00:02<00:15, 560.92it/s]\n",
            "100%|██████████| 100/100 [00:16<00:00,  6.20it/s]\n",
            " 12%|█▏        | 1190/10000 [00:02<00:15, 561.76it/s]\n",
            " 92%|█████████▏| 92/100 [00:14<00:01,  6.21it/s]\n",
            " 12%|█▏        | 1190/10000 [00:02<00:15, 558.88it/s]\n",
            " 92%|█████████▏| 92/100 [00:17<00:01,  5.27it/s]\n",
            " 12%|█▏        | 1190/10000 [00:02<00:18, 471.75it/s]\n",
            " 16%|█▌        | 16/100 [00:03<00:16,  5.20it/s]\n",
            " 12%|█▏        | 1190/10000 [00:02<00:15, 556.20it/s]\n",
            " 60%|██████    | 60/100 [00:12<00:08,  4.88it/s]\n",
            " 12%|█▏        | 1190/10000 [00:02<00:15, 566.43it/s]\n",
            " 16%|█▌        | 16/100 [00:03<00:18,  4.56it/s]\n",
            " 12%|█▏        | 1190/10000 [00:02<00:15, 558.40it/s]\n",
            "100%|██████████| 100/100 [00:19<00:00,  5.04it/s]\n",
            " 12%|█▏        | 1190/10000 [00:02<00:15, 554.19it/s]\n",
            " 56%|█████▌    | 56/100 [00:11<00:09,  4.88it/s]\n",
            " 12%|█▏        | 1190/10000 [00:02<00:15, 554.36it/s]\n",
            " 92%|█████████▏| 92/100 [00:20<00:01,  4.53it/s]\n",
            " 12%|█▏        | 1190/10000 [00:02<00:16, 539.86it/s]\n",
            " 16%|█▌        | 16/100 [00:03<00:20,  4.06it/s]\n",
            " 12%|█▏        | 1190/10000 [00:02<00:16, 527.09it/s]\n",
            " 75%|███████▌  | 75/100 [00:20<00:06,  3.67it/s]\n",
            " 12%|█▏        | 1190/10000 [00:02<00:16, 532.16it/s]\n",
            " 38%|███▊      | 38/100 [00:10<00:16,  3.72it/s]\n",
            " 18%|█▊        | 1797/10000 [00:03<00:15, 513.78it/s]\n",
            "100%|██████████| 100/100 [00:13<00:00,  7.26it/s]\n",
            " 18%|█▊        | 1797/10000 [00:03<00:15, 517.07it/s]\n",
            " 51%|█████     | 51/100 [00:07<00:06,  7.14it/s]\n",
            " 18%|█▊        | 1797/10000 [00:03<00:15, 524.08it/s]\n",
            " 47%|████▋     | 47/100 [00:07<00:08,  6.09it/s]\n",
            " 18%|█▊        | 1797/10000 [00:03<00:16, 506.93it/s]\n",
            " 19%|█▉        | 19/100 [00:03<00:13,  5.86it/s]\n",
            " 18%|█▊        | 1797/10000 [00:03<00:16, 506.66it/s]\n",
            " 66%|██████▌   | 66/100 [00:12<00:06,  5.14it/s]\n",
            " 18%|█▊        | 1797/10000 [00:03<00:16, 511.71it/s]\n",
            " 13%|█▎        | 13/100 [00:02<00:18,  4.76it/s]\n",
            " 18%|█▊        | 1797/10000 [00:03<00:15, 513.92it/s]\n",
            "100%|██████████| 100/100 [00:15<00:00,  6.60it/s]\n",
            " 18%|█▊        | 1797/10000 [00:04<00:18, 449.00it/s]\n",
            " 78%|███████▊  | 78/100 [00:12<00:03,  6.06it/s]\n",
            " 18%|█▊        | 1797/10000 [00:03<00:15, 517.95it/s]\n",
            " 48%|████▊     | 48/100 [00:08<00:09,  5.70it/s]\n",
            " 18%|█▊        | 1797/10000 [00:03<00:15, 518.43it/s]\n",
            " 17%|█▋        | 17/100 [00:03<00:15,  5.34it/s]\n",
            " 18%|█▊        | 1797/10000 [00:03<00:15, 516.37it/s]\n",
            " 60%|██████    | 60/100 [00:11<00:07,  5.01it/s]\n",
            " 18%|█▊        | 1797/10000 [00:03<00:15, 526.13it/s]\n",
            " 14%|█▍        | 14/100 [00:02<00:17,  4.78it/s]\n",
            " 18%|█▊        | 1797/10000 [00:03<00:14, 552.15it/s]\n",
            "100%|██████████| 100/100 [00:16<00:00,  5.91it/s]\n",
            " 18%|█▊        | 1797/10000 [00:03<00:14, 547.64it/s]\n",
            " 78%|███████▊  | 78/100 [00:13<00:03,  5.75it/s]\n",
            " 18%|█▊        | 1797/10000 [00:03<00:14, 556.99it/s]\n",
            " 93%|█████████▎| 93/100 [00:19<00:01,  4.88it/s]\n",
            " 18%|█▊        | 1797/10000 [00:03<00:14, 550.37it/s]\n",
            " 17%|█▋        | 17/100 [00:03<00:16,  4.93it/s]\n",
            " 18%|█▊        | 1797/10000 [00:03<00:14, 557.57it/s]\n",
            " 34%|███▍      | 34/100 [00:07<00:14,  4.50it/s]\n",
            " 18%|█▊        | 1797/10000 [00:03<00:14, 552.63it/s]\n",
            "  9%|▉         | 9/100 [00:02<00:22,  4.05it/s]\n"
          ]
        }
      ],
      "source": [
        "models = []\n",
        "for param in params:\n",
        "    model = DeepSurvivalMachines(k = param['k'],\n",
        "                                 distribution = param['distribution'],\n",
        "                                 layers = param['layers'])\n",
        "    # The fit method is called to train the model\n",
        "    model.fit(x_train, t_train, e_train, iters = 100, learning_rate = param['learning_rate'])\n",
        "    models.append([[model.compute_nll(x_val, t_val, e_val), model]])\n",
        "best_model = min(models)\n",
        "model = best_model[0][1]"
      ]
    },
    {
      "cell_type": "markdown",
      "metadata": {
        "id": "h_jZDEUsdWOB"
      },
      "source": [
        "### Inference"
      ]
    },
    {
      "cell_type": "code",
      "execution_count": null,
      "metadata": {
        "id": "ZVpeSEAbdWOC"
      },
      "outputs": [],
      "source": [
        "out_risk = model.predict_risk(x_test, times)\n",
        "out_survival = model.predict_survival(x_test, times)"
      ]
    },
    {
      "cell_type": "markdown",
      "metadata": {
        "id": "Ky2c6FxCdWOC"
      },
      "source": [
        "### Evaluation\n",
        "\n",
        "We evaluate the performance of DSM in its discriminative ability (Time Dependent Concordance Index and Cumulative Dynamic AUC) as well as Brier Score."
      ]
    },
    {
      "cell_type": "code",
      "execution_count": null,
      "metadata": {
        "id": "SLHiwQONdWOC"
      },
      "outputs": [],
      "source": [
        "from sksurv.metrics import concordance_index_ipcw, brier_score, cumulative_dynamic_auc"
      ]
    },
    {
      "cell_type": "code",
      "execution_count": null,
      "metadata": {
        "colab": {
          "base_uri": "https://localhost:8080/"
        },
        "id": "sDWonfILdWOC",
        "outputId": "82a43fc7-53f7-4c56-fc6d-c1eb54f3ccb2"
      },
      "outputs": [
        {
          "output_type": "stream",
          "name": "stdout",
          "text": [
            "For 0.25 quantile,\n",
            "TD Concordance Index: 0.7555853798907455\n",
            "Brier Score: 0.1113088360231026\n",
            "ROC AUC  0.7649158542616377 \n",
            "\n",
            "For 0.5 quantile,\n",
            "TD Concordance Index: 0.699380756108624\n",
            "Brier Score: 0.18341050843284837\n",
            "ROC AUC  0.718643804635684 \n",
            "\n",
            "For 0.75 quantile,\n",
            "TD Concordance Index: 0.6531435936608161\n",
            "Brier Score: 0.22063558940580705\n",
            "ROC AUC  0.7093596655964137 \n",
            "\n"
          ]
        }
      ],
      "source": [
        "cis = []\n",
        "brs = []\n",
        "\n",
        "et_train = np.array([(e_train[i], t_train[i]) for i in range(len(e_train))],\n",
        "                 dtype = [('e', bool), ('t', float)])\n",
        "et_test = np.array([(e_test[i], t_test[i]) for i in range(len(e_test))],\n",
        "                 dtype = [('e', bool), ('t', float)])\n",
        "et_val = np.array([(e_val[i], t_val[i]) for i in range(len(e_val))],\n",
        "                 dtype = [('e', bool), ('t', float)])\n",
        "\n",
        "for i, _ in enumerate(times):\n",
        "    cis.append(concordance_index_ipcw(et_train, et_test, out_risk[:, i], times[i])[0])\n",
        "brs.append(brier_score(et_train, et_test, out_survival, times)[1])\n",
        "roc_auc = []\n",
        "for i, _ in enumerate(times):\n",
        "    roc_auc.append(cumulative_dynamic_auc(et_train, et_test, out_risk[:, i], times[i])[0])\n",
        "for horizon in enumerate(horizons):\n",
        "    print(f\"For {horizon[1]} quantile,\")\n",
        "    print(\"TD Concordance Index:\", cis[horizon[0]])\n",
        "    print(\"Brier Score:\", brs[0][horizon[0]])\n",
        "    print(\"ROC AUC \", roc_auc[horizon[0]][0], \"\\n\")"
      ]
    }
  ],
  "metadata": {
    "kernelspec": {
      "display_name": "Python 3",
      "language": "python",
      "name": "python3"
    },
    "language_info": {
      "codemirror_mode": {
        "name": "ipython",
        "version": 3
      },
      "file_extension": ".py",
      "mimetype": "text/x-python",
      "name": "python",
      "nbconvert_exporter": "python",
      "pygments_lexer": "ipython3",
      "version": "3.8.3"
    },
    "colab": {
      "name": "Done! DCM on SUPPORT Dataset copy.ipynb",
      "provenance": [],
      "collapsed_sections": [],
      "include_colab_link": true
    },
    "accelerator": "GPU",
    "gpuClass": "standard"
  },
  "nbformat": 4,
  "nbformat_minor": 0
}